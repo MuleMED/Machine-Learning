{
  "nbformat": 4,
  "nbformat_minor": 0,
  "metadata": {
    "colab": {
      "provenance": [],
      "authorship_tag": "ABX9TyNsZ5qD3vSaoAobmNpY4LBV",
      "include_colab_link": true
    },
    "kernelspec": {
      "name": "python3",
      "display_name": "Python 3"
    },
    "language_info": {
      "name": "python"
    }
  },
  "cells": [
    {
      "cell_type": "markdown",
      "metadata": {
        "id": "view-in-github",
        "colab_type": "text"
      },
      "source": [
        "<a href=\"https://colab.research.google.com/github/MuleMED/Machine-Learning/blob/main/List_Tuple_Set_Dictionary.ipynb\" target=\"_parent\"><img src=\"https://colab.research.google.com/assets/colab-badge.svg\" alt=\"Open In Colab\"/></a>"
      ]
    },
    {
      "cell_type": "markdown",
      "source": [
        "**Types of Objects in Python:**\n",
        "\n",
        "\n",
        "1.   Immutable Ojects\n",
        "2.   Mutable Objects\n",
        "\n",
        "\n",
        "Immutable Objects:\n",
        "\n",
        "\n",
        "1.   int\n",
        "2.   float\n",
        "3.  string\n",
        "4. bool\n",
        "5. tuple\n",
        "\n",
        "Mutable Objects:\n",
        "1. List\n",
        "2. Set\n",
        "3. Dictionary\n",
        "\n",
        "\n",
        "\n"
      ],
      "metadata": {
        "id": "TpLignUFmN9H"
      }
    },
    {
      "cell_type": "markdown",
      "source": [
        "**List**"
      ],
      "metadata": {
        "id": "UdahkKbOnQ0u"
      }
    },
    {
      "cell_type": "code",
      "execution_count": 1,
      "metadata": {
        "colab": {
          "base_uri": "https://localhost:8080/"
        },
        "id": "CjgysFXHl-3g",
        "outputId": "b035e391-1d6e-4181-e1e0-c4cd18f09097"
      },
      "outputs": [
        {
          "output_type": "stream",
          "name": "stdout",
          "text": [
            "[1, 2, 3, 4, 5, 6, 7]\n"
          ]
        },
        {
          "output_type": "execute_result",
          "data": {
            "text/plain": [
              "list"
            ]
          },
          "metadata": {},
          "execution_count": 1
        }
      ],
      "source": [
        "# list should be included in the square bracket\n",
        "my_list = [1,2,3,4,5,6,7]\n",
        "print(my_list)\n",
        "type(my_list)"
      ]
    },
    {
      "cell_type": "code",
      "source": [
        "# lists can have multiple data types\n",
        "my_list = [2,3,1.6,'English', False]\n",
        "print(my_list)"
      ],
      "metadata": {
        "colab": {
          "base_uri": "https://localhost:8080/"
        },
        "id": "f3SV4cCgnr3K",
        "outputId": "f69984f4-5e27-4777-e598-f4afd192df71"
      },
      "execution_count": 2,
      "outputs": [
        {
          "output_type": "stream",
          "name": "stdout",
          "text": [
            "[2, 3, 1.6, 'English', False]\n"
          ]
        }
      ]
    },
    {
      "cell_type": "markdown",
      "source": [
        "Lists are Mutable --> Changeable"
      ],
      "metadata": {
        "id": "K3eJ0M4MoG97"
      }
    },
    {
      "cell_type": "code",
      "source": [
        "#add elements to a list\n",
        "my_list = [2,3,1.6,'English', False]\n",
        "my_list.append(49)\n",
        "print(my_list)"
      ],
      "metadata": {
        "colab": {
          "base_uri": "https://localhost:8080/"
        },
        "id": "ibxke4BtoFtk",
        "outputId": "6183f911-f0ce-44d5-ad45-f8abdc12776d"
      },
      "execution_count": 3,
      "outputs": [
        {
          "output_type": "stream",
          "name": "stdout",
          "text": [
            "[2, 3, 1.6, 'English', False, 49]\n"
          ]
        }
      ]
    }
  ]
}